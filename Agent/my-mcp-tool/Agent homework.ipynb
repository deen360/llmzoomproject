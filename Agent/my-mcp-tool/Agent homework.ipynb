{
 "cells": [
  {
   "cell_type": "code",
   "execution_count": 1,
   "id": "81f917b1-42a2-484e-b2fa-0209f4c7f64a",
   "metadata": {},
   "outputs": [],
   "source": [
    "import random\n",
    "\n",
    "known_weather_data = {\n",
    "    'berlin': 20.0\n",
    "}\n",
    "\n",
    "def get_weather(city: str) -> float:\n",
    "    city = city.strip().lower()\n",
    "\n",
    "    if city in known_weather_data:\n",
    "        return known_weather_data[city]\n",
    "\n",
    "    return round(random.uniform(-5, 35), 1)"
   ]
  },
  {
   "cell_type": "markdown",
   "id": "bee79e58-804a-44af-a235-08691d952c8d",
   "metadata": {},
   "source": [
    "## Q1. Define function description"
   ]
  },
  {
   "cell_type": "code",
   "execution_count": 2,
   "id": "0e208571-b86e-4387-a9f5-59069de10814",
   "metadata": {},
   "outputs": [],
   "source": [
    "get_weather_tool = {\n",
    "    \"type\": \"function\",\n",
    "    \"name\": \"get_weather\",\n",
    "    \"description\": \"To get the weather data for a city.\",\n",
    "    \"parameters\": {\n",
    "        \"type\": \"object\",\n",
    "        \"properties\": {\n",
    "            \"city\": {\n",
    "                \"type\": \"string\",\n",
    "                \"description\": \"The city for which to get the weather data.\"\n",
    "            }\n",
    "        },\n",
    "        \"required\": [\"city\"],\n",
    "        \"additionalProperties\": False\n",
    "    }\n",
    "}\n"
   ]
  },
  {
   "cell_type": "code",
   "execution_count": 3,
   "id": "8082fb57-2d50-4a06-9f6d-73bdb34fc02e",
   "metadata": {},
   "outputs": [],
   "source": [
    "def set_weather(city: str, temp: float) -> None:\n",
    "    city = city.strip().lower()\n",
    "    known_weather_data[city] = temp\n",
    "    return 'OK'"
   ]
  },
  {
   "cell_type": "markdown",
   "id": "8177b1f5-4c0f-43ae-b1a6-08d9c89f9f84",
   "metadata": {},
   "source": [
    "## Q2. Adding another tool"
   ]
  },
  {
   "cell_type": "code",
   "execution_count": 4,
   "id": "51e2b81b-311c-4be5-a203-b79efc316aca",
   "metadata": {},
   "outputs": [],
   "source": [
    "set_weather_tool = {\n",
    "    \"type\": \"function\",\n",
    "    \"function\": {\n",
    "        \"name\": \"set_weather\",\n",
    "        \"description\": \"A function that adds or updates weather data for a city.\",\n",
    "        \"parameters\": {\n",
    "            \"type\": \"object\",\n",
    "            \"properties\": {\n",
    "                \"city\": {\n",
    "                    \"type\": \"string\",\n",
    "                    \"description\": \"The name of the city to add or update in the database.\"\n",
    "                },\n",
    "                \"temp\": {\n",
    "                    \"type\": \"number\",\n",
    "                    \"description\": \"The temperature in Celsius to store for the city.\"\n",
    "                }\n",
    "            },\n",
    "            \"required\": [\"city\", \"temp\"]\n",
    "        }\n",
    "    }\n",
    "}\n"
   ]
  },
  {
   "cell_type": "markdown",
   "id": "c16151db-917c-4778-b718-1f749d842438",
   "metadata": {},
   "source": [
    "## Q3. Install FastMCP"
   ]
  },
  {
   "cell_type": "code",
   "execution_count": 5,
   "id": "583dd7d8-6ce3-42b8-b3bd-6c8daef392a5",
   "metadata": {},
   "outputs": [],
   "source": [
    "import fastmcp"
   ]
  },
  {
   "cell_type": "code",
   "execution_count": 6,
   "id": "c38e1561-aed7-41ca-bf1f-946c379ea533",
   "metadata": {},
   "outputs": [
    {
     "name": "stderr",
     "output_type": "stream",
     "text": [
      "/home/codespace/miniconda3/lib/python3.13/pty.py:95: DeprecationWarning: This process (pid=31694) is multi-threaded, use of forkpty() may lead to deadlocks in the child.\n",
      "  pid, fd = os.forkpty()\n"
     ]
    },
    {
     "name": "stdout",
     "output_type": "stream",
     "text": [
      "Name: fastmcp\n",
      "Version: 2.10.5\n",
      "Summary: The fast, Pythonic way to build MCP servers and clients.\n",
      "Home-page: https://gofastmcp.com\n",
      "Author: Jeremiah Lowin\n",
      "Author-email: \n",
      "License-Expression: Apache-2.0\n",
      "Location: /home/codespace/miniconda3/lib/python3.13/site-packages\n",
      "Requires: authlib, cyclopts, exceptiongroup, httpx, mcp, openapi-pydantic, pydantic, pyperclip, python-dotenv, rich\n",
      "Required-by: \n",
      "Note: you may need to restart the kernel to use updated packages.\n"
     ]
    }
   ],
   "source": [
    "pip show fastmcp"
   ]
  },
  {
   "cell_type": "markdown",
   "id": "cdd2192e-242b-48cc-9586-a1c98a873f13",
   "metadata": {},
   "source": [
    "##  Q4. Simple MCP Server"
   ]
  },
  {
   "cell_type": "code",
   "execution_count": null,
   "id": "a988c971-eadb-4ab3-86d0-4de7de17f3e8",
   "metadata": {},
   "outputs": [],
   "source": [
    "[07/14/25 11:36:43] INFO     Starting MCP server 'Demo 🚀' with transport 'stdio'  "
   ]
  },
  {
   "cell_type": "markdown",
   "id": "8c22ebb5-ab6d-46b6-8ec7-90fde1382758",
   "metadata": {},
   "source": [
    "## Q5. Protocol"
   ]
  },
  {
   "cell_type": "code",
   "execution_count": null,
   "id": "53f184b7-3738-44b2-b701-70330e61645d",
   "metadata": {},
   "outputs": [],
   "source": [
    "{\"jsonrpc\": \"2.0\", \"id\": 3, \"method\": \"tools/call\", \"params\": {\"name\": \"get_weather\", \"arguments\": {\"city\": \"berlin\"}}}"
   ]
  },
  {
   "cell_type": "code",
   "execution_count": null,
   "id": "077afd7c-0866-45f5-b044-d6bf96a35062",
   "metadata": {},
   "outputs": [],
   "source": [
    "question 6"
   ]
  }
 ],
 "metadata": {
  "kernelspec": {
   "display_name": "Python 3 (ipykernel)",
   "language": "python",
   "name": "python3"
  },
  "language_info": {
   "codemirror_mode": {
    "name": "ipython",
    "version": 3
   },
   "file_extension": ".py",
   "mimetype": "text/x-python",
   "name": "python",
   "nbconvert_exporter": "python",
   "pygments_lexer": "ipython3",
   "version": "3.13.5"
  }
 },
 "nbformat": 4,
 "nbformat_minor": 5
}
