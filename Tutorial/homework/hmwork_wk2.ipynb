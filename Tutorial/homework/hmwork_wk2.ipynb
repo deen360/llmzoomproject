{
 "cells": [
  {
   "cell_type": "markdown",
   "id": "bd6594e0-bfaa-476f-a8b4-9841c920e641",
   "metadata": {},
   "source": [
    "## Q1. Embedding the query"
   ]
  },
  {
   "cell_type": "code",
   "execution_count": null,
   "id": "476f1f40-5147-4442-82bb-b483c1ecfbc2",
   "metadata": {},
   "outputs": [],
   "source": [
    "from fastembed import TextEmbedding\n",
    "import numpy as np\n",
    "from qdrant_client import QdrantClient, models\n",
    "from qdrant_client.http import models\n"
   ]
  },
  {
   "cell_type": "code",
   "execution_count": null,
   "id": "23bbec46-6826-43ff-ad6f-d5ab067b3aeb",
   "metadata": {},
   "outputs": [],
   "source": [
    "query = \"I just discovered the course. Can I join now?\""
   ]
  },
  {
   "cell_type": "code",
   "execution_count": null,
   "id": "b80e3a3b-359d-4ec8-ae68-4114cffb38c7",
   "metadata": {},
   "outputs": [],
   "source": [
    "embedding_model = TextEmbedding('jinaai/jina-embeddings-v2-small-en')"
   ]
  },
  {
   "cell_type": "code",
   "execution_count": null,
   "id": "5b109d05-b0a7-4408-b5d8-7bd910612e2e",
   "metadata": {},
   "outputs": [],
   "source": [
    "embeddings_generator = embedding_model.embed(query)\n",
    "embeddings_list = list(embeddings_generator)"
   ]
  },
  {
   "cell_type": "code",
   "execution_count": null,
   "id": "5037b596-8c15-4f7e-8605-dbd7f869f14b",
   "metadata": {},
   "outputs": [],
   "source": [
    "round(np.min(embeddings_list[0]),3)"
   ]
  },
  {
   "cell_type": "markdown",
   "id": "933a1c59-29b3-43b4-b08f-a716614a1870",
   "metadata": {},
   "source": [
    "**Checking if its normalized**"
   ]
  },
  {
   "cell_type": "code",
   "execution_count": null,
   "id": "4a233cfd-b17a-4d48-a07d-91e63fc49e01",
   "metadata": {},
   "outputs": [],
   "source": [
    "import numpy as np\n",
    "np.linalg.norm(embeddings_list[0])"
   ]
  },
  {
   "cell_type": "code",
   "execution_count": null,
   "id": "3aa492b1-a4c9-4319-b850-78021d882b70",
   "metadata": {},
   "outputs": [],
   "source": [
    "embeddings_list[0].dot(embeddings_list[0])"
   ]
  },
  {
   "cell_type": "markdown",
   "id": "79438afc-c343-4431-bc5b-d9a2422f699d",
   "metadata": {},
   "source": [
    "## Q2. Cosine similarity with another vector"
   ]
  },
  {
   "cell_type": "code",
   "execution_count": null,
   "id": "02cdd4e9-7d0c-4ae8-932e-3285b3205373",
   "metadata": {},
   "outputs": [],
   "source": [
    "doc = 'Can I still join the course after the start date?'"
   ]
  },
  {
   "cell_type": "markdown",
   "id": "1f66494e-5667-42d6-9fd7-cb5251ca22a8",
   "metadata": {},
   "source": [
    "**Embedding the doc text**"
   ]
  },
  {
   "cell_type": "code",
   "execution_count": null,
   "id": "bbb0a9a7-c8cf-4031-9df1-5097db3a7494",
   "metadata": {},
   "outputs": [],
   "source": [
    "embeddings_generator = embedding_model.embed(doc)\n",
    "embeddings_doc = list(embeddings_generator)"
   ]
  },
  {
   "cell_type": "markdown",
   "id": "faf4fc87-fc2e-4dda-9969-8c7f38809181",
   "metadata": {},
   "source": [
    "**checking the cosine similarity**"
   ]
  },
  {
   "cell_type": "code",
   "execution_count": null,
   "id": "06ab51e7-f702-4e60-98cd-6019a1a264d9",
   "metadata": {},
   "outputs": [],
   "source": [
    "round(embeddings_doc[0].dot(embeddings_list[0]),2)"
   ]
  },
  {
   "cell_type": "markdown",
   "id": "4a791aa0-9e35-4e23-963e-11dc6a7e4840",
   "metadata": {},
   "source": [
    "## Q3. Ranking by cosine"
   ]
  },
  {
   "cell_type": "code",
   "execution_count": null,
   "id": "e9c2e524-bd84-486c-9b60-cc9416c03c0b",
   "metadata": {},
   "outputs": [],
   "source": [
    "documents = [{'text': \"Yes, even if you don't register, you're still eligible to submit the homeworks.\\nBe aware, however, that there will be deadlines for turning in the final projects. So don't leave everything for the last minute.\",\n",
    "  'section': 'General course-related questions',\n",
    "  'question': 'Course - Can I still join the course after the start date?',\n",
    "  'course': 'data-engineering-zoomcamp'},\n",
    " {'text': 'Yes, we will keep all the materials after the course finishes, so you can follow the course at your own pace after it finishes.\\nYou can also continue looking at the homeworks and continue preparing for the next cohort. I guess you can also start working on your final capstone project.',\n",
    "  'section': 'General course-related questions',\n",
    "  'question': 'Course - Can I follow the course after it finishes?',\n",
    "  'course': 'data-engineering-zoomcamp'},\n",
    " {'text': \"The purpose of this document is to capture frequently asked technical questions\\nThe exact day and hour of the course will be 15th Jan 2024 at 17h00. The course will start with the first  “Office Hours'' live.1\\nSubscribe to course public Google Calendar (it works from Desktop only).\\nRegister before the course starts using this link.\\nJoin the course Telegram channel with announcements.\\nDon’t forget to register in DataTalks.Club's Slack and join the channel.\",\n",
    "  'section': 'General course-related questions',\n",
    "  'question': 'Course - When will the course start?',\n",
    "  'course': 'data-engineering-zoomcamp'},\n",
    " {'text': 'You can start by installing and setting up all the dependencies and requirements:\\nGoogle cloud account\\nGoogle Cloud SDK\\nPython 3 (installed with Anaconda)\\nTerraform\\nGit\\nLook over the prerequisites and syllabus to see if you are comfortable with these subjects.',\n",
    "  'section': 'General course-related questions',\n",
    "  'question': 'Course - What can I do before the course starts?',\n",
    "  'course': 'data-engineering-zoomcamp'},\n",
    " {'text': 'Star the repo! Share it with friends if you find it useful ❣️\\nCreate a PR if you see you can improve the text or the structure of the repository.',\n",
    "  'section': 'General course-related questions',\n",
    "  'question': 'How can we contribute to the course?',\n",
    "  'course': 'data-engineering-zoomcamp'}]"
   ]
  },
  {
   "cell_type": "markdown",
   "id": "1b5d47be-bc38-45da-8383-240bddef95c9",
   "metadata": {},
   "source": [
    "**Create collection**"
   ]
  },
  {
   "cell_type": "code",
   "execution_count": null,
   "id": "03e33337-b720-405f-a5d9-3700aaf6e731",
   "metadata": {},
   "outputs": [],
   "source": [
    "model_handle = \"jinaai/jina-embeddings-v2-small-en\""
   ]
  },
  {
   "cell_type": "code",
   "execution_count": null,
   "id": "fec1a052-bf56-4b94-9b20-56134f8ecf01",
   "metadata": {},
   "outputs": [],
   "source": [
    "# Define the collection name\n",
    "collection_name = \"zoomcamp-Q3\"\n",
    "EMBEDDING_DIMENSIONALITY = 512\n",
    "\n",
    "# Create the collection with specified vector parameters\n",
    "client.create_collection(\n",
    "    collection_name=collection_name,\n",
    "    vectors_config=models.VectorParams(\n",
    "        size=EMBEDDING_DIMENSIONALITY,  # Dimensionality of the vectors\n",
    "        distance=models.Distance.COSINE  # Distance metric for similarity search\n",
    "    )\n",
    ")"
   ]
  },
  {
   "cell_type": "markdown",
   "id": "8218c5b5-c482-40e9-8a2e-17fbbe9b9ffd",
   "metadata": {},
   "source": [
    "## Create, Embed & Insert Points into the Collection"
   ]
  },
  {
   "cell_type": "markdown",
   "id": "e1cc6e07-f62e-4c17-8c77-0ef633da4ffb",
   "metadata": {},
   "source": [
    "**connecting to  client**"
   ]
  },
  {
   "cell_type": "code",
   "execution_count": null,
   "id": "c5a5707a-08b0-4f48-aa07-b527a24aafdf",
   "metadata": {},
   "outputs": [],
   "source": [
    "client = QdrantClient(\"http://localhost:6333\") #connecting to local Qdrant instance"
   ]
  },
  {
   "cell_type": "code",
   "execution_count": null,
   "id": "877233a2-6ffe-4552-89b2-87de44bd2ca4",
   "metadata": {},
   "outputs": [],
   "source": [
    "embedding_model = TextEmbedding('jinaai/jina-embeddings-v2-small-en')"
   ]
  },
  {
   "cell_type": "code",
   "execution_count": null,
   "id": "347cde30-e50b-4f43-94be-299dc1156a02",
   "metadata": {},
   "outputs": [],
   "source": [
    "points = []\n",
    "id = 0\n",
    "\n",
    "for doc in documents:\n",
    "    embedding = list(embedding_model.embed(doc['text']))[0]\n",
    "    \n",
    "    point = models.PointStruct(\n",
    "        id=id,\n",
    "        vector=embedding, #embed text locally with \"jinaai/jina-embeddings-v2-small-en\" from FastEmbed\n",
    "        payload={\n",
    "            \"text\": doc['text'],\n",
    "            \"section\": doc['section'],\n",
    "            \"course\": doc['course']\n",
    "        } #save all needed metadata fields\n",
    "            )\n",
    "    points.append(point)\n",
    "    id += 1"
   ]
  },
  {
   "cell_type": "code",
   "execution_count": null,
   "id": "97811738-8a2a-4c2f-8cc3-cf9754dc6fac",
   "metadata": {},
   "outputs": [],
   "source": [
    "client.upsert(\n",
    "    collection_name=collection_name,\n",
    "    points=points\n",
    ")"
   ]
  },
  {
   "cell_type": "code",
   "execution_count": null,
   "id": "b9645c09-c275-409e-b137-6226442bb20c",
   "metadata": {},
   "outputs": [],
   "source": [
    "cosine_scores = []\n",
    "\n",
    "for point in points:\n",
    "    vector = np.array(point.vector)\n",
    "    norm_value = np.linalg.norm(vector)\n",
    "    cosine = vector.dot(embeddings_list[0])\n",
    "    cosine_scores.append((point.id, cosine, norm_value))\n",
    "\n",
    "# Sort by cosine similarity in descending order\n",
    "cosine_scores.sort(key=lambda x: x[1], reverse=True)\n",
    "\n",
    "# Print sorted results\n",
    "for id, cosine, norm in cosine_scores:\n",
    "    print(f\"ID: {id}, Cosine: {cosine}, norm: {norm}\")\n"
   ]
  },
  {
   "cell_type": "markdown",
   "id": "8ed2f775-3087-4fd7-82c1-65c8ba437eaf",
   "metadata": {},
   "source": [
    "## Q4. Ranking by cosine, version two"
   ]
  },
  {
   "cell_type": "code",
   "execution_count": null,
   "id": "71ea566b-26f1-499c-b923-16c40c5fc5be",
   "metadata": {},
   "outputs": [],
   "source": [
    "def merge_doc(docs):\n",
    "    for doc in docs:\n",
    "        full_text = doc['question'] + ' ' + doc['text']\n",
    "        doc['full_text'] = full_text\n",
    "    return docs"
   ]
  },
  {
   "cell_type": "code",
   "execution_count": null,
   "id": "f4b64cbc-b670-421b-b853-d77a9b481c92",
   "metadata": {},
   "outputs": [],
   "source": [
    "documets2 = documents.copy()"
   ]
  },
  {
   "cell_type": "code",
   "execution_count": null,
   "id": "f1961c0c-8721-4f3b-a0c9-058bfab023af",
   "metadata": {},
   "outputs": [],
   "source": [
    "document_new = merge_doc(documets2)"
   ]
  },
  {
   "cell_type": "markdown",
   "id": "f7705a65-9335-4308-9622-e2b942c8004d",
   "metadata": {},
   "source": [
    "**Create collection**"
   ]
  },
  {
   "cell_type": "code",
   "execution_count": null,
   "id": "117b189f-9386-4865-adf7-0b3938a3a658",
   "metadata": {},
   "outputs": [],
   "source": [
    "# Define the collection name\n",
    "collection_name = \"zoomcamp-Q4\"\n",
    "EMBEDDING_DIMENSIONALITY = 512\n",
    "\n",
    "# Create the collection with specified vector parameters\n",
    "client.create_collection(\n",
    "    collection_name=collection_name,\n",
    "    vectors_config=models.VectorParams(\n",
    "        size=EMBEDDING_DIMENSIONALITY,  # Dimensionality of the vectors\n",
    "        distance=models.Distance.COSINE  # Distance metric for similarity search\n",
    "    )\n",
    ")"
   ]
  },
  {
   "cell_type": "markdown",
   "id": "534f3ef4-18c7-4869-90fb-670716d32165",
   "metadata": {},
   "source": [
    "**Model embedding**"
   ]
  },
  {
   "cell_type": "code",
   "execution_count": null,
   "id": "fe0c5fdc-2895-4857-8287-8ea96cf0c9d2",
   "metadata": {},
   "outputs": [],
   "source": [
    "points = []\n",
    "id = 0\n",
    "\n",
    "for doc in document_new:\n",
    "    embedding = list(embedding_model.embed(doc['full_text']))[0]\n",
    "    \n",
    "    point = models.PointStruct(\n",
    "        id=id,\n",
    "        vector=embedding, #embed text locally with \"jinaai/jina-embeddings-v2-small-en\" from FastEmbed\n",
    "        payload={\n",
    "            \"full_text\": doc['full_text'],\n",
    "            \"section\": doc['section'],\n",
    "            \"course\": doc['course']\n",
    "        } #save all needed metadata fields\n",
    "            )\n",
    "    points.append(point)\n",
    "    id += 1"
   ]
  },
  {
   "cell_type": "code",
   "execution_count": null,
   "id": "84c0eb20-6db0-4be5-9cbe-71e04078f8ec",
   "metadata": {},
   "outputs": [],
   "source": [
    "client.upsert(\n",
    "    collection_name=collection_name,\n",
    "    points=points\n",
    ")"
   ]
  },
  {
   "cell_type": "code",
   "execution_count": null,
   "id": "610859d7-4ccd-43c3-b952-b2af013e8584",
   "metadata": {},
   "outputs": [],
   "source": [
    "cosine_scores = []\n",
    "\n",
    "for point in points:\n",
    "    vector = np.array(point.vector)\n",
    "    norm_value = np.linalg.norm(vector)\n",
    "    cosine = vector.dot(embeddings_list[0])\n",
    "    cosine_scores.append((point.id, cosine, norm_value))\n",
    "\n",
    "# Sort by cosine similarity in descending order\n",
    "cosine_scores.sort(key=lambda x: x[1], reverse=True)\n",
    "\n",
    "# Print sorted results\n",
    "for id, cosine, norm in cosine_scores:\n",
    "    print(f\"ID: {id}, Cosine: {cosine}, norm: {norm}\")\n"
   ]
  },
  {
   "cell_type": "markdown",
   "id": "b06709e1-5014-4d43-89c6-bdb25f280463",
   "metadata": {},
   "source": [
    "## Q5. Selecting the embedding model"
   ]
  },
  {
   "cell_type": "code",
   "execution_count": null,
   "id": "91ab587d-1164-445a-91d8-647daee722d8",
   "metadata": {},
   "outputs": [],
   "source": [
    "sorted_models = sorted(TextEmbedding.list_supported_models(), key=lambda x: x['dim'])\n",
    "#sorted_models[0]['dim']\n",
    "sorted_models[0]"
   ]
  },
  {
   "cell_type": "markdown",
   "id": "bb6de89c-2270-44c8-8918-ddf85de2ea33",
   "metadata": {},
   "source": [
    "## Q6. Indexing with qdrant (2 points)"
   ]
  },
  {
   "cell_type": "code",
   "execution_count": null,
   "id": "8c2cfcaa-4f3f-4fda-ad0d-5a5f6c54d346",
   "metadata": {},
   "outputs": [],
   "source": [
    "import requests \n",
    "\n",
    "docs_url = 'https://github.com/alexeygrigorev/llm-rag-workshop/raw/main/notebooks/documents.json'\n",
    "docs_response = requests.get(docs_url)\n",
    "documents_raw = docs_response.json()\n",
    "\n",
    "\n",
    "documents = []\n",
    "\n",
    "for course in documents_raw:\n",
    "    course_name = course['course']\n",
    "    if course_name != 'machine-learning-zoomcamp':\n",
    "        continue\n",
    "\n",
    "    for doc in course['documents']:\n",
    "        doc['course'] = course_name\n",
    "        documents.append(doc)"
   ]
  },
  {
   "cell_type": "code",
   "execution_count": null,
   "id": "1e67e1c3-168f-4c9e-948f-cb8d4441724e",
   "metadata": {},
   "outputs": [],
   "source": [
    "documents"
   ]
  },
  {
   "cell_type": "code",
   "execution_count": null,
   "id": "60f99b12-28ac-4d7f-be35-90f9cf5a372b",
   "metadata": {},
   "outputs": [],
   "source": [
    "def merge_text(docs):\n",
    "    for doc in docs:\n",
    "        text = doc['question'] + ' ' + doc['text']\n",
    "        doc['text'] = text\n",
    "    return docs"
   ]
  },
  {
   "cell_type": "code",
   "execution_count": null,
   "id": "0be331b9-c815-4365-a4ed-1909c3eee758",
   "metadata": {},
   "outputs": [],
   "source": [
    "document_x = merge_text(documents)"
   ]
  },
  {
   "cell_type": "code",
   "execution_count": null,
   "id": "771364c2-0102-4957-94bd-b17efba3d8c4",
   "metadata": {},
   "outputs": [],
   "source": [
    "document_x"
   ]
  },
  {
   "cell_type": "code",
   "execution_count": null,
   "id": "961c1916-b9c5-49cc-90bd-e385ba527afb",
   "metadata": {},
   "outputs": [],
   "source": [
    "embedding_model = TextEmbedding('BAAI/bge-small-en')"
   ]
  },
  {
   "cell_type": "code",
   "execution_count": null,
   "id": "4736e34e-36d5-4cb2-a71a-efb7c2168c82",
   "metadata": {},
   "outputs": [],
   "source": [
    "# Define the collection name\n",
    "collection_name = \"zoomcamp-Q6\"\n",
    "EMBEDDING_DIMENSIONALITY = 512"
   ]
  },
  {
   "cell_type": "code",
   "execution_count": null,
   "id": "b6072199-249a-4780-8b00-f447ad95082a",
   "metadata": {},
   "outputs": [],
   "source": [
    "# Create the collection with specified vector parameters\n",
    "client.create_collection(\n",
    "    collection_name=collection_name,\n",
    "    vectors_config=models.VectorParams(\n",
    "        size=EMBEDDING_DIMENSIONALITY,  # Dimensionality of the vectors\n",
    "        distance=models.Distance.COSINE  # Distance metric for similarity search\n",
    "    )\n",
    ")"
   ]
  },
  {
   "cell_type": "code",
   "execution_count": null,
   "id": "b7e84ecb-8967-4732-addb-54ec0926c73c",
   "metadata": {},
   "outputs": [],
   "source": [
    "points = []\n",
    "id = 0\n",
    "\n",
    "for doc in document_x:\n",
    "    embedding = list(embedding_model.embed(doc['text']))[0]\n",
    "    \n",
    "    point = models.PointStruct(\n",
    "        id=id,\n",
    "        vector=embedding, #embed text locally with \"jinaai/jina-embeddings-v2-small-en\" from FastEmbed\n",
    "        payload={\n",
    "            \"text\": doc['text'],\n",
    "            \"section\": doc['section'],\n",
    "            \"course\": doc['course']\n",
    "        } #save all needed metadata fields\n",
    "            )\n",
    "    points.append(point)\n",
    "    id += 1"
   ]
  },
  {
   "cell_type": "code",
   "execution_count": null,
   "id": "0696db4c-a5da-4550-993a-30b062736c26",
   "metadata": {},
   "outputs": [],
   "source": [
    "client.upsert(\n",
    "    collection_name=collection_name,\n",
    "    points=points\n",
    ")"
   ]
  },
  {
   "cell_type": "code",
   "execution_count": null,
   "id": "96eae233-93d0-4a04-b26b-682b3cbcab70",
   "metadata": {},
   "outputs": [],
   "source": [
    "embeddings_generator = embedding_model.embed(query)\n",
    "embeddings_list = list(embeddings_generator)"
   ]
  },
  {
   "cell_type": "code",
   "execution_count": 238,
   "id": "bea1f8b4-81e8-4574-9756-7a63b8b244ec",
   "metadata": {},
   "outputs": [
    {
     "name": "stdout",
     "output_type": "stream",
     "text": [
      "ID: 14, Cosine: 0.8703172355728512, norm: 0.9999999743331559\n",
      "ID: 6, Cosine: 0.8691884656117479, norm: 1.0000000205261674\n",
      "ID: 13, Cosine: 0.8683311072522578, norm: 0.9999999433836532\n",
      "ID: 293, Cosine: 0.8576105596771215, norm: 0.9999999671558005\n",
      "ID: 17, Cosine: 0.8571540389939137, norm: 1.0000000732477647\n",
      "ID: 231, Cosine: 0.8568166145986099, norm: 0.9999999862485074\n",
      "ID: 262, Cosine: 0.8544782997176332, norm: 0.999999945854573\n",
      "ID: 9, Cosine: 0.8455939052447949, norm: 0.9999999960299701\n",
      "ID: 5, Cosine: 0.8414748014456602, norm: 1.0000000138568965\n",
      "ID: 18, Cosine: 0.8347909904289127, norm: 1.0000000356151506\n",
      "ID: 11, Cosine: 0.8321303284298623, norm: 1.0000000501770085\n",
      "ID: 4, Cosine: 0.8234946554174352, norm: 1.000000007681959\n",
      "ID: 15, Cosine: 0.8224412347165199, norm: 1.0000000032869332\n",
      "ID: 20, Cosine: 0.8210680242218888, norm: 1.0000000378380816\n",
      "ID: 1, Cosine: 0.8197733627970245, norm: 1.0000000634668407\n",
      "ID: 50, Cosine: 0.819571144233962, norm: 0.9999999197665019\n",
      "ID: 62, Cosine: 0.818239319626612, norm: 0.9999999884147888\n",
      "ID: 330, Cosine: 0.816100450137266, norm: 0.9999998944379591\n",
      "ID: 0, Cosine: 0.8147727150651963, norm: 0.9999999812101722\n",
      "ID: 129, Cosine: 0.814344631891633, norm: 1.0000000182938942\n",
      "ID: 327, Cosine: 0.8115555799767102, norm: 0.9999999651411947\n",
      "ID: 372, Cosine: 0.8109954134314878, norm: 0.9999999749739367\n",
      "ID: 371, Cosine: 0.8091342302304063, norm: 0.9999999875075282\n",
      "ID: 329, Cosine: 0.8080950094054938, norm: 0.999999939207161\n",
      "ID: 374, Cosine: 0.806764936473404, norm: 0.9999999346975632\n",
      "ID: 8, Cosine: 0.8061052211531752, norm: 0.9999999993455831\n",
      "ID: 61, Cosine: 0.8058155878562707, norm: 0.9999999991726327\n",
      "ID: 322, Cosine: 0.805518877032602, norm: 1.0000000755972627\n",
      "ID: 86, Cosine: 0.8036830405858777, norm: 0.9999999562264078\n",
      "ID: 22, Cosine: 0.8034543496494074, norm: 0.999999986253103\n",
      "ID: 2, Cosine: 0.8030151932128977, norm: 1.0000000053222013\n",
      "ID: 249, Cosine: 0.8028197275323389, norm: 1.0000000376668252\n",
      "ID: 320, Cosine: 0.8024749037365899, norm: 0.9999999603100205\n",
      "ID: 362, Cosine: 0.8016857063916292, norm: 0.9999999850337674\n",
      "ID: 323, Cosine: 0.8012827857081029, norm: 1.0000000119378163\n",
      "ID: 87, Cosine: 0.8010139699092597, norm: 0.9999999575111905\n",
      "ID: 134, Cosine: 0.7992877685825961, norm: 1.0000000040621626\n",
      "ID: 140, Cosine: 0.797776943380583, norm: 1.0000000396572655\n",
      "ID: 333, Cosine: 0.7977677640238914, norm: 0.9999999907155116\n",
      "ID: 7, Cosine: 0.7973703746853549, norm: 1.0000000087828074\n",
      "ID: 122, Cosine: 0.7970848996295257, norm: 0.9999999802875835\n",
      "ID: 16, Cosine: 0.796584609469567, norm: 0.9999999386844463\n",
      "ID: 152, Cosine: 0.7964738945048702, norm: 1.000000027570181\n",
      "ID: 21, Cosine: 0.7962143093075584, norm: 1.0000000083749516\n",
      "ID: 286, Cosine: 0.7903874455865004, norm: 0.9999999828074468\n",
      "ID: 361, Cosine: 0.790259182985807, norm: 1.0000000237107658\n",
      "ID: 324, Cosine: 0.789626757364366, norm: 0.9999999959632857\n",
      "ID: 219, Cosine: 0.7891709369587393, norm: 0.999999935804801\n",
      "ID: 197, Cosine: 0.7890759742917324, norm: 0.9999999768905021\n",
      "ID: 44, Cosine: 0.7889375668896433, norm: 1.0000000264074593\n",
      "ID: 115, Cosine: 0.7886829680939982, norm: 0.9999999960224213\n",
      "ID: 188, Cosine: 0.7884450813344998, norm: 0.9999999721875462\n",
      "ID: 204, Cosine: 0.7866368586126362, norm: 1.0000000508010802\n",
      "ID: 263, Cosine: 0.7850224487979502, norm: 0.9999999995815466\n",
      "ID: 214, Cosine: 0.7849059286005362, norm: 1.0000000238302165\n",
      "ID: 130, Cosine: 0.7847163408759256, norm: 0.9999999885509402\n",
      "ID: 279, Cosine: 0.7846831501350641, norm: 0.9999999918088834\n",
      "ID: 193, Cosine: 0.7841858811438568, norm: 1.000000007065077\n",
      "ID: 363, Cosine: 0.7840228942995142, norm: 1.0000000003950162\n",
      "ID: 10, Cosine: 0.7840073598826942, norm: 0.9999999639761491\n",
      "ID: 84, Cosine: 0.7817850892602932, norm: 0.9999999647512364\n",
      "ID: 241, Cosine: 0.7811710582800888, norm: 0.9999999501868471\n",
      "ID: 83, Cosine: 0.7796074877084144, norm: 1.0000000298821636\n",
      "ID: 19, Cosine: 0.7781332497940895, norm: 1.0000000286696806\n",
      "ID: 287, Cosine: 0.7779217909956061, norm: 1.0000000275609477\n",
      "ID: 68, Cosine: 0.7775128050010562, norm: 0.9999999590219802\n",
      "ID: 177, Cosine: 0.777396183189246, norm: 0.9999999756461663\n",
      "ID: 93, Cosine: 0.7772350141067765, norm: 1.0000000578007715\n",
      "ID: 337, Cosine: 0.7767833363896193, norm: 1.0000000110264715\n",
      "ID: 300, Cosine: 0.7767058510640064, norm: 0.9999999843748074\n",
      "ID: 312, Cosine: 0.7766928265672286, norm: 1.0000000385465682\n",
      "ID: 317, Cosine: 0.776497879267509, norm: 0.9999999780181204\n",
      "ID: 359, Cosine: 0.7757108585881699, norm: 0.9999999958384073\n",
      "ID: 153, Cosine: 0.7756595188902581, norm: 0.9999999588033647\n",
      "ID: 35, Cosine: 0.7754794483459846, norm: 1.000000030623108\n",
      "ID: 127, Cosine: 0.7753029328116626, norm: 1.0000000853652153\n",
      "ID: 176, Cosine: 0.7749486549967928, norm: 1.000000032783554\n",
      "ID: 344, Cosine: 0.7749121872789301, norm: 1.0000000368164685\n",
      "ID: 321, Cosine: 0.7746924328753704, norm: 1.00000005013009\n",
      "ID: 217, Cosine: 0.7746812217236488, norm: 0.9999999075241517\n",
      "ID: 208, Cosine: 0.774437818476584, norm: 0.9999999588815635\n",
      "ID: 331, Cosine: 0.7742098375510708, norm: 1.0000000557878077\n",
      "ID: 222, Cosine: 0.7741444616920526, norm: 0.9999999643908332\n",
      "ID: 3, Cosine: 0.7736216600080246, norm: 1.0000000086018253\n",
      "ID: 131, Cosine: 0.7729598439144472, norm: 1.0000000152523167\n",
      "ID: 303, Cosine: 0.7729457996916242, norm: 1.0000000228395312\n",
      "ID: 315, Cosine: 0.7728795930044233, norm: 0.9999999760328777\n",
      "ID: 90, Cosine: 0.7725781844917298, norm: 1.0000000444464063\n",
      "ID: 132, Cosine: 0.7724346288584207, norm: 0.9999999723873593\n",
      "ID: 154, Cosine: 0.7723250642197683, norm: 0.9999999723414876\n",
      "ID: 23, Cosine: 0.7721753107563369, norm: 0.9999999937917133\n",
      "ID: 29, Cosine: 0.77185285874741, norm: 0.9999999549365761\n",
      "ID: 301, Cosine: 0.771763475831526, norm: 1.000000015861843\n",
      "ID: 239, Cosine: 0.7717456449351456, norm: 1.000000038505398\n",
      "ID: 46, Cosine: 0.7712903277727654, norm: 1.0000000649932927\n",
      "ID: 192, Cosine: 0.7699181269963775, norm: 0.9999999899046456\n",
      "ID: 233, Cosine: 0.7698342256090975, norm: 1.0000000153107391\n",
      "ID: 227, Cosine: 0.7698120751006783, norm: 1.0000000405453213\n",
      "ID: 373, Cosine: 0.7696418966536026, norm: 1.0000000673396978\n",
      "ID: 325, Cosine: 0.7692917641718968, norm: 1.0000000548333547\n",
      "ID: 160, Cosine: 0.7686435275974824, norm: 1.0000000239651248\n",
      "ID: 162, Cosine: 0.7686345800265427, norm: 0.9999999397495439\n",
      "ID: 27, Cosine: 0.7685133200420962, norm: 1.0000000344321136\n",
      "ID: 334, Cosine: 0.7683159957602352, norm: 0.9999999831123928\n",
      "ID: 351, Cosine: 0.7681090640698915, norm: 1.000000007833771\n",
      "ID: 335, Cosine: 0.7675630351151839, norm: 0.9999999048156701\n",
      "ID: 126, Cosine: 0.7673065297457979, norm: 0.9999999990773536\n",
      "ID: 189, Cosine: 0.7672781474382482, norm: 1.0000000114802234\n",
      "ID: 232, Cosine: 0.7670869461670721, norm: 1.0000000446177635\n",
      "ID: 199, Cosine: 0.7670037301566601, norm: 1.000000011457569\n",
      "ID: 271, Cosine: 0.7667193178713987, norm: 0.9999999215813306\n",
      "ID: 366, Cosine: 0.7656446248640881, norm: 1.0000000603824246\n",
      "ID: 53, Cosine: 0.7656275534581065, norm: 0.9999999452424322\n",
      "ID: 240, Cosine: 0.7652219558825043, norm: 0.9999999671871558\n",
      "ID: 12, Cosine: 0.7650218527130451, norm: 0.9999999656374035\n",
      "ID: 269, Cosine: 0.7648718021506345, norm: 1.0000000159327542\n",
      "ID: 285, Cosine: 0.7648634405928622, norm: 1.0000000006172285\n",
      "ID: 112, Cosine: 0.7647143369628313, norm: 0.9999999295905372\n",
      "ID: 338, Cosine: 0.7643718317706258, norm: 0.9999999779267967\n",
      "ID: 289, Cosine: 0.7638840083774365, norm: 0.9999999551532005\n",
      "ID: 161, Cosine: 0.7636063414205038, norm: 1.000000011872218\n",
      "ID: 182, Cosine: 0.7635138577696441, norm: 0.9999999167603784\n",
      "ID: 280, Cosine: 0.7633680698938254, norm: 1.0000000498843244\n",
      "ID: 266, Cosine: 0.7627481456457981, norm: 0.9999999674494418\n",
      "ID: 348, Cosine: 0.7624300651949956, norm: 1.000000030054409\n",
      "ID: 59, Cosine: 0.7624036874092043, norm: 0.999999952341119\n",
      "ID: 310, Cosine: 0.7623885036374702, norm: 1.0000000117455348\n",
      "ID: 346, Cosine: 0.7622435349982727, norm: 0.9999999606672652\n",
      "ID: 186, Cosine: 0.7619779515573306, norm: 1.0000000666974895\n",
      "ID: 32, Cosine: 0.7617771797058821, norm: 1.0000000379733636\n",
      "ID: 291, Cosine: 0.7616044912495168, norm: 1.0000000007469692\n",
      "ID: 316, Cosine: 0.7615943993056966, norm: 0.9999999972280817\n",
      "ID: 178, Cosine: 0.7612529940782713, norm: 0.999999955334559\n",
      "ID: 26, Cosine: 0.7611208155832042, norm: 1.0000000195464127\n",
      "ID: 354, Cosine: 0.7610642163426196, norm: 0.9999999633257501\n",
      "ID: 267, Cosine: 0.7609515062318271, norm: 0.9999999651100576\n",
      "ID: 194, Cosine: 0.7608620530380334, norm: 1.0000000151812827\n",
      "ID: 105, Cosine: 0.7607647111944056, norm: 0.9999999917963939\n",
      "ID: 281, Cosine: 0.7606934980133742, norm: 0.9999999523454456\n",
      "ID: 76, Cosine: 0.7600809616358548, norm: 0.9999999807770059\n",
      "ID: 236, Cosine: 0.7598712885807639, norm: 1.0000000141591499\n",
      "ID: 187, Cosine: 0.7589833475987477, norm: 0.9999999703028386\n",
      "ID: 274, Cosine: 0.7589426679760628, norm: 0.9999999599598575\n",
      "ID: 365, Cosine: 0.7589384522347591, norm: 0.9999999533493886\n",
      "ID: 268, Cosine: 0.7589343646367458, norm: 1.0000000043537172\n",
      "ID: 225, Cosine: 0.7584679169403945, norm: 1.0000000045695918\n",
      "ID: 265, Cosine: 0.7584509254959, norm: 1.000000076368011\n",
      "ID: 229, Cosine: 0.7579324946148268, norm: 0.9999999768340231\n",
      "ID: 207, Cosine: 0.7576329844808515, norm: 0.9999999953341461\n",
      "ID: 234, Cosine: 0.7574688914253692, norm: 0.9999999959099016\n",
      "ID: 85, Cosine: 0.757462380558472, norm: 0.9999999624017145\n",
      "ID: 298, Cosine: 0.7571629923538569, norm: 1.0000000625669987\n",
      "ID: 196, Cosine: 0.7570988671262799, norm: 1.0000000351940492\n",
      "ID: 171, Cosine: 0.7569458241860347, norm: 1.0000000845019459\n",
      "ID: 250, Cosine: 0.7567516383427871, norm: 0.9999999511208171\n",
      "ID: 31, Cosine: 0.7566058806712159, norm: 0.9999999768990371\n",
      "ID: 205, Cosine: 0.7565283923686128, norm: 0.9999999542857259\n",
      "ID: 48, Cosine: 0.7564192567345778, norm: 1.0000000403450648\n",
      "ID: 313, Cosine: 0.7560694527605677, norm: 0.9999999965193801\n",
      "ID: 251, Cosine: 0.7560396498030988, norm: 0.9999999246424145\n",
      "ID: 342, Cosine: 0.7560107731182002, norm: 0.9999999870328611\n",
      "ID: 270, Cosine: 0.7560011869981622, norm: 0.9999999618954415\n",
      "ID: 247, Cosine: 0.7555620702859343, norm: 0.999999926208955\n",
      "ID: 185, Cosine: 0.7554986330968458, norm: 0.9999999940858372\n",
      "ID: 296, Cosine: 0.755497674610754, norm: 1.0000000575155001\n",
      "ID: 104, Cosine: 0.755283350868532, norm: 1.0000000514333465\n",
      "ID: 336, Cosine: 0.7550817053832953, norm: 0.9999999742558523\n",
      "ID: 135, Cosine: 0.7550543767304474, norm: 0.9999999460379562\n",
      "ID: 80, Cosine: 0.7549138452059188, norm: 0.9999999757735669\n",
      "ID: 60, Cosine: 0.7549019446300103, norm: 1.00000002531436\n",
      "ID: 106, Cosine: 0.7548624556534789, norm: 0.999999987394747\n",
      "ID: 180, Cosine: 0.7547398234519715, norm: 1.0000000090589163\n",
      "ID: 175, Cosine: 0.7543693618031573, norm: 0.9999999367706391\n",
      "ID: 99, Cosine: 0.7542560598722549, norm: 1.0000000013527277\n",
      "ID: 209, Cosine: 0.7539529551060956, norm: 0.9999999786352168\n",
      "ID: 218, Cosine: 0.75366304215617, norm: 0.9999999847480896\n",
      "ID: 220, Cosine: 0.7536260281539651, norm: 1.0000000538350098\n",
      "ID: 116, Cosine: 0.7536063940386859, norm: 0.9999999554179286\n",
      "ID: 228, Cosine: 0.7534936011136679, norm: 0.9999999898693671\n",
      "ID: 297, Cosine: 0.7534349603163513, norm: 1.0000000150503048\n",
      "ID: 326, Cosine: 0.7534199520140509, norm: 1.0000000352719292\n",
      "ID: 252, Cosine: 0.7533451071906069, norm: 1.0000000538546285\n",
      "ID: 273, Cosine: 0.7532620058137519, norm: 1.0000000403591578\n",
      "ID: 123, Cosine: 0.7531174822457146, norm: 0.999999949695306\n",
      "ID: 174, Cosine: 0.7531156834832216, norm: 0.9999999337131756\n",
      "ID: 256, Cosine: 0.7530535350532737, norm: 1.000000056024636\n",
      "ID: 288, Cosine: 0.7530437788098494, norm: 0.9999999672575416\n",
      "ID: 202, Cosine: 0.7530014337108488, norm: 1.0000000282901467\n",
      "ID: 173, Cosine: 0.7528025630587956, norm: 0.9999999618827219\n",
      "ID: 191, Cosine: 0.7520905198944647, norm: 0.9999999956669827\n",
      "ID: 364, Cosine: 0.7520003723280664, norm: 0.999999995379618\n",
      "ID: 299, Cosine: 0.751888043200992, norm: 0.9999999617398199\n",
      "ID: 253, Cosine: 0.7517419281956708, norm: 1.000000006765193\n",
      "ID: 254, Cosine: 0.7515560392105832, norm: 1.0000000283041905\n",
      "ID: 340, Cosine: 0.7515012521007056, norm: 1.0000000334483437\n",
      "ID: 118, Cosine: 0.7513396481086585, norm: 1.0000000004352871\n",
      "ID: 307, Cosine: 0.751036763335295, norm: 0.9999999606174372\n",
      "ID: 367, Cosine: 0.7508083579220814, norm: 0.9999999578012554\n",
      "ID: 166, Cosine: 0.7507501323383037, norm: 0.9999999766353903\n",
      "ID: 157, Cosine: 0.7506793109556134, norm: 0.9999999755005955\n",
      "ID: 257, Cosine: 0.7506149875542959, norm: 1.0000000269237623\n",
      "ID: 349, Cosine: 0.7505424876739839, norm: 1.0000000028871834\n",
      "ID: 230, Cosine: 0.750521170292766, norm: 0.9999999726774942\n",
      "ID: 156, Cosine: 0.7503959403011992, norm: 0.9999999777060036\n",
      "ID: 292, Cosine: 0.7501016734761192, norm: 0.9999999840393449\n",
      "ID: 33, Cosine: 0.7499920354174558, norm: 0.9999999616394271\n",
      "ID: 243, Cosine: 0.7499709289439986, norm: 0.9999999530342238\n",
      "ID: 246, Cosine: 0.7495745325812855, norm: 1.0000000008646912\n",
      "ID: 314, Cosine: 0.7495409995486687, norm: 0.9999999674334118\n",
      "ID: 198, Cosine: 0.7491960881498911, norm: 0.9999999848305798\n",
      "ID: 100, Cosine: 0.7491545065126233, norm: 1.0000000736871166\n",
      "ID: 151, Cosine: 0.7486581833762084, norm: 0.9999999622977666\n",
      "ID: 283, Cosine: 0.7484605416984984, norm: 1.0000000001019633\n",
      "ID: 155, Cosine: 0.748312540325824, norm: 1.0000000301978451\n",
      "ID: 309, Cosine: 0.7482866298693114, norm: 1.0000000281866612\n",
      "ID: 272, Cosine: 0.747992433896561, norm: 0.999999946705944\n",
      "ID: 318, Cosine: 0.7479674781431415, norm: 1.0000000881882178\n",
      "ID: 109, Cosine: 0.7479317217449796, norm: 1.0000000483326237\n",
      "ID: 121, Cosine: 0.7474843733523809, norm: 0.9999999536969189\n",
      "ID: 260, Cosine: 0.7474648933776701, norm: 1.000000072573455\n",
      "ID: 223, Cosine: 0.7472707019495702, norm: 0.9999999612752801\n",
      "ID: 356, Cosine: 0.7471854990702824, norm: 0.9999999931380327\n",
      "ID: 92, Cosine: 0.7469252202180685, norm: 0.999999985384308\n",
      "ID: 184, Cosine: 0.7468460699558664, norm: 1.0000000350702496\n",
      "ID: 332, Cosine: 0.7461747776298806, norm: 0.9999999785819789\n",
      "ID: 47, Cosine: 0.7459128535205012, norm: 0.9999999744978177\n",
      "ID: 128, Cosine: 0.7457999401206277, norm: 1.0000000434797527\n",
      "ID: 343, Cosine: 0.74578876546954, norm: 1.000000027663893\n",
      "ID: 113, Cosine: 0.7456567902684699, norm: 0.9999999824098498\n",
      "ID: 304, Cosine: 0.7454556744982302, norm: 1.000000007426342\n",
      "ID: 159, Cosine: 0.7454272739384652, norm: 1.0000000240273728\n",
      "ID: 172, Cosine: 0.7451427337440801, norm: 1.0000000337778856\n",
      "ID: 368, Cosine: 0.7450513021165056, norm: 0.9999999936390951\n",
      "ID: 255, Cosine: 0.7449117502327025, norm: 1.000000029267821\n",
      "ID: 215, Cosine: 0.7448808381145059, norm: 1.0000000535639635\n",
      "ID: 248, Cosine: 0.7443831306302129, norm: 0.9999999970345875\n",
      "ID: 52, Cosine: 0.7442991617893, norm: 1.0000000585189264\n",
      "ID: 158, Cosine: 0.7441150988041582, norm: 1.0000000614023314\n",
      "ID: 235, Cosine: 0.7439192308032432, norm: 0.9999999859476709\n",
      "ID: 242, Cosine: 0.743897992389531, norm: 0.999999966059345\n",
      "ID: 88, Cosine: 0.7438403482352887, norm: 1.0000000155556905\n",
      "ID: 358, Cosine: 0.7436200768527557, norm: 0.9999999876851458\n",
      "ID: 339, Cosine: 0.7435883466939783, norm: 0.9999999700645226\n",
      "ID: 278, Cosine: 0.7434813133369059, norm: 1.0000000188214133\n",
      "ID: 34, Cosine: 0.743328231497386, norm: 0.9999999565236031\n",
      "ID: 138, Cosine: 0.7432699369447338, norm: 1.0000000478297046\n",
      "ID: 216, Cosine: 0.7427099392538697, norm: 0.9999999787442609\n",
      "ID: 350, Cosine: 0.7426329905553274, norm: 1.0000000186496592\n",
      "ID: 63, Cosine: 0.7417749647329457, norm: 0.9999999448780738\n",
      "ID: 66, Cosine: 0.7413675446568742, norm: 0.9999999732249173\n",
      "ID: 148, Cosine: 0.7413241144882358, norm: 0.9999999915501923\n",
      "ID: 237, Cosine: 0.7410906516440143, norm: 1.0000000124782036\n",
      "ID: 181, Cosine: 0.7407889457008553, norm: 1.0000000033575152\n",
      "ID: 244, Cosine: 0.7405963371702944, norm: 0.9999999389161653\n",
      "ID: 96, Cosine: 0.7402995280178855, norm: 1.0000000429383966\n",
      "ID: 290, Cosine: 0.740293613440252, norm: 1.0000000217574339\n",
      "ID: 347, Cosine: 0.7402374433077061, norm: 1.000000026130397\n",
      "ID: 305, Cosine: 0.740189898192702, norm: 0.9999999997057567\n",
      "ID: 43, Cosine: 0.7400492035590087, norm: 0.9999999972544567\n",
      "ID: 328, Cosine: 0.7400132276603394, norm: 0.999999989679743\n",
      "ID: 238, Cosine: 0.7398401492806642, norm: 0.9999999814617695\n",
      "ID: 258, Cosine: 0.7392858799225577, norm: 0.9999999583825293\n",
      "ID: 345, Cosine: 0.7392222880870202, norm: 1.0000000091781642\n",
      "ID: 89, Cosine: 0.7391562742271289, norm: 1.000000030179951\n",
      "ID: 65, Cosine: 0.7388072552130392, norm: 1.0000000144849535\n",
      "ID: 141, Cosine: 0.7383978640856101, norm: 1.0000000576048311\n",
      "ID: 165, Cosine: 0.7383723025258495, norm: 0.9999999619570356\n",
      "ID: 110, Cosine: 0.738011743304155, norm: 0.999999982931253\n",
      "ID: 353, Cosine: 0.7378836164210372, norm: 1.0000000393938995\n",
      "ID: 24, Cosine: 0.7377287313897936, norm: 1.0000000275461975\n",
      "ID: 51, Cosine: 0.7361078275503101, norm: 1.0000000242586122\n",
      "ID: 57, Cosine: 0.7360228987794751, norm: 1.0000000265707938\n",
      "ID: 294, Cosine: 0.7357349914029034, norm: 0.9999999284029029\n",
      "ID: 276, Cosine: 0.7356602680077636, norm: 0.9999999858873864\n",
      "ID: 264, Cosine: 0.7352748597562521, norm: 1.0000000487435725\n",
      "ID: 136, Cosine: 0.7352435272458991, norm: 0.9999999760968716\n",
      "ID: 369, Cosine: 0.7350319291802605, norm: 1.000000010467149\n",
      "ID: 211, Cosine: 0.7350305833829299, norm: 0.9999998990575996\n",
      "ID: 120, Cosine: 0.7349911741271865, norm: 0.9999999094587912\n",
      "ID: 94, Cosine: 0.7347917713138296, norm: 1.0000000309907702\n",
      "ID: 163, Cosine: 0.7347074765173478, norm: 1.0000000601683618\n",
      "ID: 119, Cosine: 0.7346760083788533, norm: 1.0000000302848888\n",
      "ID: 169, Cosine: 0.7345481303890407, norm: 0.9999999941276126\n",
      "ID: 190, Cosine: 0.7342557926971311, norm: 1.0000000011613241\n",
      "ID: 284, Cosine: 0.7342344886316664, norm: 0.999999998113064\n",
      "ID: 125, Cosine: 0.7340220808499063, norm: 1.0000000014113908\n",
      "ID: 170, Cosine: 0.7327268642308662, norm: 0.9999999754771012\n",
      "ID: 206, Cosine: 0.7325667893347168, norm: 1.000000030159698\n",
      "ID: 69, Cosine: 0.7324534615847444, norm: 0.9999999333531139\n",
      "ID: 108, Cosine: 0.7323490773811968, norm: 1.0000000134677955\n",
      "ID: 261, Cosine: 0.7322368531233151, norm: 0.9999999998227168\n",
      "ID: 145, Cosine: 0.7313939952695343, norm: 1.0000000415340398\n",
      "ID: 311, Cosine: 0.7312697609512012, norm: 1.0000000197496393\n",
      "ID: 124, Cosine: 0.7312583573058704, norm: 1.0000000078698064\n",
      "ID: 259, Cosine: 0.7310070972424314, norm: 1.00000005728195\n",
      "ID: 195, Cosine: 0.7307622705407633, norm: 0.9999999879884113\n",
      "ID: 201, Cosine: 0.7305260380571503, norm: 0.9999999495902232\n",
      "ID: 95, Cosine: 0.7303307212626003, norm: 0.9999999481267895\n",
      "ID: 143, Cosine: 0.7302721717007332, norm: 1.0000000052106806\n",
      "ID: 56, Cosine: 0.7300785997954913, norm: 0.9999999904498614\n",
      "ID: 67, Cosine: 0.7293711067243713, norm: 0.9999999278462612\n",
      "ID: 146, Cosine: 0.7291616725295272, norm: 1.0000000127112771\n",
      "ID: 308, Cosine: 0.7288850543779102, norm: 0.9999999414847128\n",
      "ID: 38, Cosine: 0.7284202237879859, norm: 0.9999999491265131\n",
      "ID: 210, Cosine: 0.7283070923525692, norm: 0.9999999913234775\n",
      "ID: 200, Cosine: 0.7282734035124248, norm: 1.0000000097897033\n",
      "ID: 25, Cosine: 0.7278327782048725, norm: 0.9999999701197796\n",
      "ID: 167, Cosine: 0.7276359343342917, norm: 1.0000000279367827\n",
      "ID: 183, Cosine: 0.7266267629397127, norm: 1.0000000038561354\n",
      "ID: 58, Cosine: 0.7265438156776648, norm: 0.999999998766321\n",
      "ID: 277, Cosine: 0.7264432421513961, norm: 1.0000000112029943\n",
      "ID: 203, Cosine: 0.7264205467328442, norm: 0.9999999874774135\n",
      "ID: 71, Cosine: 0.7263731441264265, norm: 1.000000014113927\n",
      "ID: 213, Cosine: 0.7260728683655886, norm: 0.9999999783917974\n",
      "ID: 39, Cosine: 0.725600655154153, norm: 1.0000000084009155\n",
      "ID: 168, Cosine: 0.7255055561366233, norm: 0.9999999767287322\n",
      "ID: 282, Cosine: 0.7250055276366916, norm: 1.0000000436781307\n",
      "ID: 164, Cosine: 0.7241798432438786, norm: 1.0000000016588597\n",
      "ID: 49, Cosine: 0.7237764801907852, norm: 1.0000000074781747\n",
      "ID: 142, Cosine: 0.7228064241864309, norm: 0.9999999773074838\n",
      "ID: 319, Cosine: 0.7227371129902381, norm: 0.9999999880315249\n",
      "ID: 144, Cosine: 0.7227039347656352, norm: 1.000000057390741\n",
      "ID: 352, Cosine: 0.7221317972983508, norm: 0.99999998435685\n",
      "ID: 54, Cosine: 0.7213967686398135, norm: 0.999999996222029\n",
      "ID: 147, Cosine: 0.7213206513634421, norm: 1.000000014172408\n",
      "ID: 64, Cosine: 0.7212566872691607, norm: 1.0000000548561974\n",
      "ID: 70, Cosine: 0.7208926337665396, norm: 0.9999999321867608\n",
      "ID: 221, Cosine: 0.7208257902758636, norm: 1.0000000348157152\n",
      "ID: 139, Cosine: 0.7206323637920489, norm: 0.9999999597055524\n",
      "ID: 179, Cosine: 0.7206102853163242, norm: 0.9999999828459805\n",
      "ID: 97, Cosine: 0.7204678580527311, norm: 0.999999989116408\n",
      "ID: 149, Cosine: 0.7203241350477414, norm: 0.9999999577157214\n",
      "ID: 117, Cosine: 0.7200029801693546, norm: 0.9999999995475857\n",
      "ID: 226, Cosine: 0.719750168997391, norm: 0.9999999987164799\n",
      "ID: 101, Cosine: 0.7194497915427314, norm: 0.999999982796619\n",
      "ID: 133, Cosine: 0.7192317380677403, norm: 1.0000000267758669\n",
      "ID: 357, Cosine: 0.7190590922726184, norm: 1.0000000217274674\n",
      "ID: 212, Cosine: 0.7190163399776665, norm: 1.0000000151652406\n",
      "ID: 30, Cosine: 0.7180948990155878, norm: 0.9999999614265933\n",
      "ID: 55, Cosine: 0.7175727094474913, norm: 1.0000000116907488\n",
      "ID: 45, Cosine: 0.7173680077900155, norm: 1.0000000099715498\n",
      "ID: 102, Cosine: 0.7171961568014911, norm: 1.000000038579673\n",
      "ID: 82, Cosine: 0.7169023041986311, norm: 0.9999999480398646\n",
      "ID: 75, Cosine: 0.7165995219527118, norm: 1.000000035661235\n",
      "ID: 137, Cosine: 0.7163574178527609, norm: 1.0000000169146643\n",
      "ID: 295, Cosine: 0.7146245763801727, norm: 1.0000000669991855\n",
      "ID: 224, Cosine: 0.7141151340860041, norm: 0.9999999958555474\n",
      "ID: 306, Cosine: 0.7140737678869683, norm: 0.9999999803809488\n",
      "ID: 150, Cosine: 0.7140107072513924, norm: 0.9999999951300029\n",
      "ID: 355, Cosine: 0.7130097350451634, norm: 1.0000000176256219\n",
      "ID: 341, Cosine: 0.7125500223223143, norm: 0.9999999622082\n",
      "ID: 41, Cosine: 0.7108266203729869, norm: 1.0000000354403034\n",
      "ID: 36, Cosine: 0.7092370112505264, norm: 0.999999922450905\n",
      "ID: 302, Cosine: 0.7090335169812361, norm: 0.9999999618354515\n",
      "ID: 370, Cosine: 0.7080172424670114, norm: 0.9999999994897856\n",
      "ID: 111, Cosine: 0.7078779035180672, norm: 1.0000000142585679\n",
      "ID: 275, Cosine: 0.7076325809325328, norm: 1.0000000655513968\n",
      "ID: 91, Cosine: 0.7066053070281401, norm: 0.9999999694162136\n",
      "ID: 103, Cosine: 0.7061845030008608, norm: 1.0000000338217392\n",
      "ID: 245, Cosine: 0.7060356463240461, norm: 0.9999999902635149\n",
      "ID: 360, Cosine: 0.7053691159948396, norm: 0.9999999382487452\n",
      "ID: 81, Cosine: 0.7041918007228887, norm: 1.0000000180989972\n",
      "ID: 77, Cosine: 0.70321952887736, norm: 1.0000000210381763\n",
      "ID: 98, Cosine: 0.7013459106993333, norm: 0.9999999836654754\n",
      "ID: 42, Cosine: 0.700106687102882, norm: 1.000000077623957\n",
      "ID: 114, Cosine: 0.697110977658987, norm: 0.9999999489955022\n",
      "ID: 72, Cosine: 0.695283821774415, norm: 0.9999999465199464\n",
      "ID: 37, Cosine: 0.693778211185802, norm: 1.0000000364355268\n",
      "ID: 107, Cosine: 0.6927849419956467, norm: 1.0000000186007185\n",
      "ID: 28, Cosine: 0.6898966206066874, norm: 1.0000000871827122\n",
      "ID: 73, Cosine: 0.686381121447615, norm: 1.0000000055493101\n",
      "ID: 79, Cosine: 0.6858497577471037, norm: 0.9999999335714664\n",
      "ID: 78, Cosine: 0.6810440955705653, norm: 1.0000000495319443\n",
      "ID: 40, Cosine: 0.6805361244020389, norm: 0.9999999915680235\n",
      "ID: 74, Cosine: 0.672295455954195, norm: 1.0000000334062802\n"
     ]
    }
   ],
   "source": [
    "cosine_scores = []\n",
    "\n",
    "for point in points:\n",
    "    vector = np.array(point.vector)\n",
    "    norm_value = np.linalg.norm(vector)\n",
    "    cosine = vector.dot(embeddings_list[0])\n",
    "    cosine_scores.append((point.id, cosine, norm_value))\n",
    "\n",
    "# Sort by cosine similarity in descending order\n",
    "cosine_scores.sort(key=lambda x: x[1], reverse=True)\n",
    "\n",
    "# Print sorted results\n",
    "for id, cosine, norm in cosine_scores:\n",
    "    print(f\"ID: {id}, Cosine: {cosine}, norm: {norm}\")\n"
   ]
  },
  {
   "cell_type": "code",
   "execution_count": null,
   "id": "bb80f378-7f03-4221-b773-e8dc85c81661",
   "metadata": {},
   "outputs": [],
   "source": []
  },
  {
   "cell_type": "code",
   "execution_count": null,
   "id": "587f49b1-2235-4d57-9496-98d073262cd4",
   "metadata": {},
   "outputs": [],
   "source": []
  }
 ],
 "metadata": {
  "kernelspec": {
   "display_name": "Python 3 (ipykernel)",
   "language": "python",
   "name": "python3"
  },
  "language_info": {
   "codemirror_mode": {
    "name": "ipython",
    "version": 3
   },
   "file_extension": ".py",
   "mimetype": "text/x-python",
   "name": "python",
   "nbconvert_exporter": "python",
   "pygments_lexer": "ipython3",
   "version": "3.13.5"
  }
 },
 "nbformat": 4,
 "nbformat_minor": 5
}
